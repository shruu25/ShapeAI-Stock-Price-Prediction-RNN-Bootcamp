{
  "nbformat": 4,
  "nbformat_minor": 0,
  "metadata": {
    "colab": {
      "name": "Stock price prediction.ipynb",
      "provenance": []
    },
    "kernelspec": {
      "name": "python3",
      "display_name": "Python 3"
    },
    "language_info": {
      "name": "python"
    }
  },
  "cells": [
    {
      "cell_type": "code",
      "metadata": {
        "id": "iDZAmPLaPcri"
      },
      "source": [
        "import numpy as np\n",
        "import pandas as pd"
      ],
      "execution_count": 1,
      "outputs": []
    },
    {
      "cell_type": "markdown",
      "metadata": {
        "id": "9RjQu9PxQa7t"
      },
      "source": [
        "**Reading** **Dataset**"
      ]
    },
    {
      "cell_type": "code",
      "metadata": {
        "id": "DA0xvWEzQWsy"
      },
      "source": [
        "path =\"/content/Uniqlo(FastRetailing) 2012-2016 Training - stocks2012-2016.csv\"\n",
        "df = pd.read_csv(path)"
      ],
      "execution_count": 2,
      "outputs": []
    },
    {
      "cell_type": "code",
      "metadata": {
        "colab": {
          "base_uri": "https://localhost:8080/",
          "height": 206
        },
        "id": "yoJdALH8Qh33",
        "outputId": "04223d15-df98-4400-958b-5a2dc328fcd1"
      },
      "source": [
        "\n",
        "df.head() #show top few rows of data"
      ],
      "execution_count": 3,
      "outputs": [
        {
          "output_type": "execute_result",
          "data": {
            "text/html": [
              "<div>\n",
              "<style scoped>\n",
              "    .dataframe tbody tr th:only-of-type {\n",
              "        vertical-align: middle;\n",
              "    }\n",
              "\n",
              "    .dataframe tbody tr th {\n",
              "        vertical-align: top;\n",
              "    }\n",
              "\n",
              "    .dataframe thead th {\n",
              "        text-align: right;\n",
              "    }\n",
              "</style>\n",
              "<table border=\"1\" class=\"dataframe\">\n",
              "  <thead>\n",
              "    <tr style=\"text-align: right;\">\n",
              "      <th></th>\n",
              "      <th>Date</th>\n",
              "      <th>Open</th>\n",
              "      <th>High</th>\n",
              "      <th>Low</th>\n",
              "      <th>Close</th>\n",
              "      <th>Volume</th>\n",
              "      <th>Stock Trading</th>\n",
              "    </tr>\n",
              "  </thead>\n",
              "  <tbody>\n",
              "    <tr>\n",
              "      <th>0</th>\n",
              "      <td>2016-12-30</td>\n",
              "      <td>42120</td>\n",
              "      <td>42330</td>\n",
              "      <td>41700</td>\n",
              "      <td>41830</td>\n",
              "      <td>610000</td>\n",
              "      <td>25628028000</td>\n",
              "    </tr>\n",
              "    <tr>\n",
              "      <th>1</th>\n",
              "      <td>2016-12-29</td>\n",
              "      <td>43000</td>\n",
              "      <td>43220</td>\n",
              "      <td>42540</td>\n",
              "      <td>42660</td>\n",
              "      <td>448400</td>\n",
              "      <td>19188227000</td>\n",
              "    </tr>\n",
              "    <tr>\n",
              "      <th>2</th>\n",
              "      <td>2016-12-28</td>\n",
              "      <td>43940</td>\n",
              "      <td>43970</td>\n",
              "      <td>43270</td>\n",
              "      <td>43270</td>\n",
              "      <td>339900</td>\n",
              "      <td>14780670000</td>\n",
              "    </tr>\n",
              "    <tr>\n",
              "      <th>3</th>\n",
              "      <td>2016-12-27</td>\n",
              "      <td>43140</td>\n",
              "      <td>43700</td>\n",
              "      <td>43140</td>\n",
              "      <td>43620</td>\n",
              "      <td>400100</td>\n",
              "      <td>17427993000</td>\n",
              "    </tr>\n",
              "    <tr>\n",
              "      <th>4</th>\n",
              "      <td>2016-12-26</td>\n",
              "      <td>43310</td>\n",
              "      <td>43660</td>\n",
              "      <td>43090</td>\n",
              "      <td>43340</td>\n",
              "      <td>358200</td>\n",
              "      <td>15547803000</td>\n",
              "    </tr>\n",
              "  </tbody>\n",
              "</table>\n",
              "</div>"
            ],
            "text/plain": [
              "         Date   Open   High    Low  Close  Volume  Stock Trading\n",
              "0  2016-12-30  42120  42330  41700  41830  610000    25628028000\n",
              "1  2016-12-29  43000  43220  42540  42660  448400    19188227000\n",
              "2  2016-12-28  43940  43970  43270  43270  339900    14780670000\n",
              "3  2016-12-27  43140  43700  43140  43620  400100    17427993000\n",
              "4  2016-12-26  43310  43660  43090  43340  358200    15547803000"
            ]
          },
          "metadata": {},
          "execution_count": 3
        }
      ]
    },
    {
      "cell_type": "code",
      "metadata": {
        "colab": {
          "base_uri": "https://localhost:8080/",
          "height": 206
        },
        "id": "XkZzyz7IQyMQ",
        "outputId": "0fc13214-9726-4513-d010-fe76ba6dbf56"
      },
      "source": [
        "df.tail() #show bottom few rows of data"
      ],
      "execution_count": 4,
      "outputs": [
        {
          "output_type": "execute_result",
          "data": {
            "text/html": [
              "<div>\n",
              "<style scoped>\n",
              "    .dataframe tbody tr th:only-of-type {\n",
              "        vertical-align: middle;\n",
              "    }\n",
              "\n",
              "    .dataframe tbody tr th {\n",
              "        vertical-align: top;\n",
              "    }\n",
              "\n",
              "    .dataframe thead th {\n",
              "        text-align: right;\n",
              "    }\n",
              "</style>\n",
              "<table border=\"1\" class=\"dataframe\">\n",
              "  <thead>\n",
              "    <tr style=\"text-align: right;\">\n",
              "      <th></th>\n",
              "      <th>Date</th>\n",
              "      <th>Open</th>\n",
              "      <th>High</th>\n",
              "      <th>Low</th>\n",
              "      <th>Close</th>\n",
              "      <th>Volume</th>\n",
              "      <th>Stock Trading</th>\n",
              "    </tr>\n",
              "  </thead>\n",
              "  <tbody>\n",
              "    <tr>\n",
              "      <th>1221</th>\n",
              "      <td>2012-01-11</td>\n",
              "      <td>14360</td>\n",
              "      <td>14750</td>\n",
              "      <td>14280</td>\n",
              "      <td>14590</td>\n",
              "      <td>1043400</td>\n",
              "      <td>15191988000</td>\n",
              "    </tr>\n",
              "    <tr>\n",
              "      <th>1222</th>\n",
              "      <td>2012-01-10</td>\n",
              "      <td>13890</td>\n",
              "      <td>14390</td>\n",
              "      <td>13860</td>\n",
              "      <td>14390</td>\n",
              "      <td>952300</td>\n",
              "      <td>13533413000</td>\n",
              "    </tr>\n",
              "    <tr>\n",
              "      <th>1223</th>\n",
              "      <td>2012-01-06</td>\n",
              "      <td>13990</td>\n",
              "      <td>14030</td>\n",
              "      <td>13790</td>\n",
              "      <td>13850</td>\n",
              "      <td>765500</td>\n",
              "      <td>10635609000</td>\n",
              "    </tr>\n",
              "    <tr>\n",
              "      <th>1224</th>\n",
              "      <td>2012-01-05</td>\n",
              "      <td>13720</td>\n",
              "      <td>13840</td>\n",
              "      <td>13600</td>\n",
              "      <td>13800</td>\n",
              "      <td>511500</td>\n",
              "      <td>7030811000</td>\n",
              "    </tr>\n",
              "    <tr>\n",
              "      <th>1225</th>\n",
              "      <td>2012-01-04</td>\n",
              "      <td>14050</td>\n",
              "      <td>14050</td>\n",
              "      <td>13700</td>\n",
              "      <td>13720</td>\n",
              "      <td>559100</td>\n",
              "      <td>7719804000</td>\n",
              "    </tr>\n",
              "  </tbody>\n",
              "</table>\n",
              "</div>"
            ],
            "text/plain": [
              "            Date   Open   High    Low  Close   Volume  Stock Trading\n",
              "1221  2012-01-11  14360  14750  14280  14590  1043400    15191988000\n",
              "1222  2012-01-10  13890  14390  13860  14390   952300    13533413000\n",
              "1223  2012-01-06  13990  14030  13790  13850   765500    10635609000\n",
              "1224  2012-01-05  13720  13840  13600  13800   511500     7030811000\n",
              "1225  2012-01-04  14050  14050  13700  13720   559100     7719804000"
            ]
          },
          "metadata": {},
          "execution_count": 4
        }
      ]
    },
    {
      "cell_type": "code",
      "metadata": {
        "colab": {
          "base_uri": "https://localhost:8080/"
        },
        "id": "XrwfXlgzQ309",
        "outputId": "4ed2c4f8-5c05-4ab9-f47b-ece23f74be76"
      },
      "source": [
        "df = df['High']\n",
        "df.head()"
      ],
      "execution_count": 5,
      "outputs": [
        {
          "output_type": "execute_result",
          "data": {
            "text/plain": [
              "0    42330\n",
              "1    43220\n",
              "2    43970\n",
              "3    43700\n",
              "4    43660\n",
              "Name: High, dtype: int64"
            ]
          },
          "metadata": {},
          "execution_count": 5
        }
      ]
    },
    {
      "cell_type": "markdown",
      "metadata": {
        "id": "vI6cltBURCxQ"
      },
      "source": [
        "\n",
        "Ploting the time series"
      ]
    },
    {
      "cell_type": "code",
      "metadata": {
        "id": "zAS2RnYwRAuT"
      },
      "source": [
        "import matplotlib.pyplot as plt\n",
        "\n",
        "def plot_series(data):\n",
        "  for df in data :\n",
        "    plt.plot(df)\n",
        "  plt.show()"
      ],
      "execution_count": 6,
      "outputs": []
    },
    {
      "cell_type": "markdown",
      "metadata": {
        "id": "mzZrOCGuR-OT"
      },
      "source": [
        "Splitting the dataset in Train and Test set"
      ]
    },
    {
      "cell_type": "code",
      "metadata": {
        "id": "FAlxYutgRHok"
      },
      "source": [
        "# Using 80% of the dataset for training and rest for testing\n",
        "train = df[:int(0.8*len(df))]\n",
        "test = df[int(0.8*len(df)) :]"
      ],
      "execution_count": 7,
      "outputs": []
    },
    {
      "cell_type": "markdown",
      "metadata": {
        "id": "8MPNVcjYSBQK"
      },
      "source": [
        "Reshaping the data into the required form to be fed into the RNN"
      ]
    },
    {
      "cell_type": "code",
      "metadata": {
        "id": "evpQyfj4ReFX"
      },
      "source": [
        "def arrange(data,window=10):\n",
        "  x = []\n",
        "  y = []\n",
        "\n",
        "  for i,val in enumerate(data):\n",
        "    if i<window:\n",
        "      continue\n",
        "    x.append(data[i-window :i-1].values.reshape(-1,1))\n",
        "    y.append(data[i:i+1].values.reshape(-1,1))\n",
        "\n",
        "  x = np.asarray(x)\n",
        "  y = np.asarray(y)\n",
        "\n",
        "  return x,y"
      ],
      "execution_count": 8,
      "outputs": []
    },
    {
      "cell_type": "code",
      "metadata": {
        "colab": {
          "base_uri": "https://localhost:8080/"
        },
        "id": "mU2kTdF2SPZ9",
        "outputId": "e88721d5-378e-4e0b-d9aa-444976880470"
      },
      "source": [
        "x_train, y_train = arrange(train,15)\n",
        "print(\"x_shape is: {} and y-shape is: {}\".format(x_train.shape , y_train.shape))"
      ],
      "execution_count": 9,
      "outputs": [
        {
          "output_type": "stream",
          "name": "stdout",
          "text": [
            "x_shape is: (965, 14, 1) and y-shape is: (965, 1, 1)\n"
          ]
        }
      ]
    },
    {
      "cell_type": "code",
      "metadata": {
        "colab": {
          "base_uri": "https://localhost:8080/"
        },
        "id": "8A7GYHtWSTgy",
        "outputId": "6e01f832-ac10-4f95-c448-8e5f3c2a99de"
      },
      "source": [
        "print(x_train[0])\n",
        "print(y_train[0])"
      ],
      "execution_count": 10,
      "outputs": [
        {
          "output_type": "stream",
          "name": "stdout",
          "text": [
            "[[42330]\n",
            " [43220]\n",
            " [43970]\n",
            " [43700]\n",
            " [43660]\n",
            " [43840]\n",
            " [44370]\n",
            " [43630]\n",
            " [43150]\n",
            " [43550]\n",
            " [43880]\n",
            " [43440]\n",
            " [43300]\n",
            " [44000]]\n",
            "[[41560]]\n"
          ]
        }
      ]
    },
    {
      "cell_type": "markdown",
      "metadata": {
        "id": "mzNY55KASgPW"
      },
      "source": [
        "**Building the Model**"
      ]
    },
    {
      "cell_type": "code",
      "metadata": {
        "id": "0AV2P8UuSkYY"
      },
      "source": [
        "import tensorflow as tf\n",
        "from tensorflow import keras\n",
        "from keras.models import Sequential\n",
        "from keras.layers import SimpleRNN,Dense,Input"
      ],
      "execution_count": 11,
      "outputs": []
    },
    {
      "cell_type": "code",
      "metadata": {
        "colab": {
          "base_uri": "https://localhost:8080/"
        },
        "id": "W4guyqS1Srx2",
        "outputId": "e8992b4b-2431-4500-c8c1-325dde627d82"
      },
      "source": [
        "x_train.shape[1:]"
      ],
      "execution_count": 12,
      "outputs": [
        {
          "output_type": "execute_result",
          "data": {
            "text/plain": [
              "(14, 1)"
            ]
          },
          "metadata": {},
          "execution_count": 12
        }
      ]
    },
    {
      "cell_type": "code",
      "metadata": {
        "colab": {
          "base_uri": "https://localhost:8080/"
        },
        "id": "1wW4g0H1SvLH",
        "outputId": "81c74801-aa44-4fb4-8357-f941971df6df"
      },
      "source": [
        "Netp = Sequential()\n",
        "Netp.add(SimpleRNN(3,activation='relu',input_shape=x_train.shape[1:]))\n",
        "Netp.add(Dense(1,activation='relu'))\n",
        "\n",
        "Netp.summary()"
      ],
      "execution_count": 13,
      "outputs": [
        {
          "output_type": "stream",
          "name": "stdout",
          "text": [
            "Model: \"sequential\"\n",
            "_________________________________________________________________\n",
            "Layer (type)                 Output Shape              Param #   \n",
            "=================================================================\n",
            "simple_rnn (SimpleRNN)       (None, 3)                 15        \n",
            "_________________________________________________________________\n",
            "dense (Dense)                (None, 1)                 4         \n",
            "=================================================================\n",
            "Total params: 19\n",
            "Trainable params: 19\n",
            "Non-trainable params: 0\n",
            "_________________________________________________________________\n"
          ]
        }
      ]
    },
    {
      "cell_type": "code",
      "metadata": {
        "id": "9HKXcKcuSy1F"
      },
      "source": [
        "Netp.compile(loss = 'mean_squared_error',optimizer='adam',metrics=['mse'])"
      ],
      "execution_count": 14,
      "outputs": []
    },
    {
      "cell_type": "code",
      "metadata": {
        "colab": {
          "base_uri": "https://localhost:8080/"
        },
        "id": "qqfXBh8GS1rC",
        "outputId": "48e27b41-cd44-4a3d-cc66-e66c1da40b91"
      },
      "source": [
        "Netp.fit(x_train, y_train, epochs=10)"
      ],
      "execution_count": 15,
      "outputs": [
        {
          "output_type": "stream",
          "name": "stdout",
          "text": [
            "Epoch 1/10\n",
            "31/31 [==============================] - 1s 3ms/step - loss: 605121024.0000 - mse: 605121024.0000\n",
            "Epoch 2/10\n",
            "31/31 [==============================] - 0s 4ms/step - loss: 498028704.0000 - mse: 498028704.0000\n",
            "Epoch 3/10\n",
            "31/31 [==============================] - 0s 3ms/step - loss: 390620352.0000 - mse: 390620352.0000\n",
            "Epoch 4/10\n",
            "31/31 [==============================] - 0s 3ms/step - loss: 287536928.0000 - mse: 287536928.0000\n",
            "Epoch 5/10\n",
            "31/31 [==============================] - 0s 3ms/step - loss: 194178832.0000 - mse: 194178832.0000\n",
            "Epoch 6/10\n",
            "31/31 [==============================] - 0s 3ms/step - loss: 115657952.0000 - mse: 115657952.0000\n",
            "Epoch 7/10\n",
            "31/31 [==============================] - 0s 3ms/step - loss: 59678244.0000 - mse: 59678244.0000\n",
            "Epoch 8/10\n",
            "31/31 [==============================] - 0s 4ms/step - loss: 25733682.0000 - mse: 25733682.0000\n",
            "Epoch 9/10\n",
            "31/31 [==============================] - 0s 3ms/step - loss: 9454829.0000 - mse: 9454829.0000\n",
            "Epoch 10/10\n",
            "31/31 [==============================] - 0s 3ms/step - loss: 3594735.0000 - mse: 3594735.0000\n"
          ]
        },
        {
          "output_type": "execute_result",
          "data": {
            "text/plain": [
              "<keras.callbacks.History at 0x7f12ae7f17d0>"
            ]
          },
          "metadata": {},
          "execution_count": 15
        }
      ]
    },
    {
      "cell_type": "code",
      "metadata": {
        "colab": {
          "base_uri": "https://localhost:8080/"
        },
        "id": "BAK5GeDZTA3-",
        "outputId": "9cbcb62a-ffef-4ef6-ca21-33290b2d2881"
      },
      "source": [
        "x_test, y_test, = arrange(test, 15)\n",
        "print (\"x-test is: {} and  y-test is: {}\".format(x_test.shape, y_test.shape))"
      ],
      "execution_count": 16,
      "outputs": [
        {
          "output_type": "stream",
          "name": "stdout",
          "text": [
            "x-test is: (231, 14, 1) and  y-test is: (231, 1, 1)\n"
          ]
        }
      ]
    },
    {
      "cell_type": "code",
      "metadata": {
        "colab": {
          "base_uri": "https://localhost:8080/"
        },
        "id": "_DWmRNRRTD_N",
        "outputId": "a40fd061-9124-4075-ed23-3d19f3b558f2"
      },
      "source": [
        "print(x_test[0])\n",
        "print(y_test[0])"
      ],
      "execution_count": 17,
      "outputs": [
        {
          "output_type": "stream",
          "name": "stdout",
          "text": [
            "[[21170]\n",
            " [20770]\n",
            " [20710]\n",
            " [20880]\n",
            " [21330]\n",
            " [20840]\n",
            " [20910]\n",
            " [20120]\n",
            " [20260]\n",
            " [19860]\n",
            " [19700]\n",
            " [19460]\n",
            " [19360]\n",
            " [19420]]\n",
            "[[18990]]\n"
          ]
        }
      ]
    },
    {
      "cell_type": "code",
      "metadata": {
        "colab": {
          "base_uri": "https://localhost:8080/"
        },
        "id": "fyJ2II0LTH3p",
        "outputId": "05f909a7-a04d-4fa1-c93e-4ac0a357f4f5"
      },
      "source": [
        "x_test, y_test, = arrange(test, 15) \n",
        "pred = Netp.predict(x_test) \n",
        "pred"
      ],
      "execution_count": 18,
      "outputs": [
        {
          "output_type": "execute_result",
          "data": {
            "text/plain": [
              "array([[18977.979],\n",
              "       [18886.129],\n",
              "       [18676.26 ],\n",
              "       [18656.055],\n",
              "       [18473.643],\n",
              "       [18235.09 ],\n",
              "       [18215.934],\n",
              "       [18124.271],\n",
              "       [17920.498],\n",
              "       [17625.574],\n",
              "       [17398.104],\n",
              "       [17244.668],\n",
              "       [17143.701],\n",
              "       [16996.592],\n",
              "       [16705.314],\n",
              "       [16599.7  ],\n",
              "       [16703.77 ],\n",
              "       [16611.154],\n",
              "       [16708.16 ],\n",
              "       [16847.729],\n",
              "       [17015.658],\n",
              "       [17019.791],\n",
              "       [17009.33 ],\n",
              "       [17149.87 ],\n",
              "       [17239.873],\n",
              "       [17467.102],\n",
              "       [17584.307],\n",
              "       [17581.045],\n",
              "       [17591.84 ],\n",
              "       [17505.635],\n",
              "       [17303.953],\n",
              "       [17076.082],\n",
              "       [16856.24 ],\n",
              "       [16705.73 ],\n",
              "       [16684.182],\n",
              "       [16404.89 ],\n",
              "       [16075.002],\n",
              "       [15990.723],\n",
              "       [16187.291],\n",
              "       [16985.379],\n",
              "       [17592.406],\n",
              "       [17969.613],\n",
              "       [18029.865],\n",
              "       [17944.549],\n",
              "       [17899.8  ],\n",
              "       [17611.621],\n",
              "       [17748.11 ],\n",
              "       [17884.74 ],\n",
              "       [17786.535],\n",
              "       [17754.918],\n",
              "       [17905.422],\n",
              "       [17914.92 ],\n",
              "       [17840.262],\n",
              "       [17829.717],\n",
              "       [17825.676],\n",
              "       [17968.674],\n",
              "       [18234.285],\n",
              "       [18101.191],\n",
              "       [17983.93 ],\n",
              "       [17848.643],\n",
              "       [17778.723],\n",
              "       [17836.246],\n",
              "       [17725.79 ],\n",
              "       [17707.543],\n",
              "       [17784.873],\n",
              "       [17898.83 ],\n",
              "       [17924.44 ],\n",
              "       [18012.55 ],\n",
              "       [18070.414],\n",
              "       [18116.684],\n",
              "       [17989.867],\n",
              "       [17850.918],\n",
              "       [17924.143],\n",
              "       [17831.752],\n",
              "       [17724.064],\n",
              "       [17658.7  ],\n",
              "       [17639.672],\n",
              "       [17572.148],\n",
              "       [17245.125],\n",
              "       [17089.67 ],\n",
              "       [17012.02 ],\n",
              "       [17114.762],\n",
              "       [17208.348],\n",
              "       [17039.436],\n",
              "       [16709.691],\n",
              "       [16462.852],\n",
              "       [16241.764],\n",
              "       [16000.432],\n",
              "       [15956.12 ],\n",
              "       [15890.952],\n",
              "       [15787.679],\n",
              "       [15778.211],\n",
              "       [15642.079],\n",
              "       [15541.72 ],\n",
              "       [15557.46 ],\n",
              "       [15671.906],\n",
              "       [15848.274],\n",
              "       [15801.436],\n",
              "       [15795.53 ],\n",
              "       [15751.106],\n",
              "       [15384.753],\n",
              "       [15310.592],\n",
              "       [15179.777],\n",
              "       [15147.709],\n",
              "       [15219.739],\n",
              "       [15409.965],\n",
              "       [15470.827],\n",
              "       [15542.338],\n",
              "       [15443.265],\n",
              "       [15640.185],\n",
              "       [15631.338],\n",
              "       [15597.833],\n",
              "       [15488.624],\n",
              "       [15338.358],\n",
              "       [15148.262],\n",
              "       [15099.493],\n",
              "       [15147.054],\n",
              "       [15165.283],\n",
              "       [15214.43 ],\n",
              "       [15365.77 ],\n",
              "       [15261.155],\n",
              "       [15227.084],\n",
              "       [15208.   ],\n",
              "       [15224.779],\n",
              "       [15243.254],\n",
              "       [15473.184],\n",
              "       [15886.545],\n",
              "       [16008.839],\n",
              "       [16380.947],\n",
              "       [16909.03 ],\n",
              "       [17219.842],\n",
              "       [17266.693],\n",
              "       [17453.29 ],\n",
              "       [17398.326],\n",
              "       [17353.17 ],\n",
              "       [17040.74 ],\n",
              "       [16770.422],\n",
              "       [16721.023],\n",
              "       [16810.502],\n",
              "       [16784.568],\n",
              "       [16599.963],\n",
              "       [16583.416],\n",
              "       [16583.096],\n",
              "       [16655.246],\n",
              "       [16604.604],\n",
              "       [16416.55 ],\n",
              "       [16458.912],\n",
              "       [16601.629],\n",
              "       [16740.648],\n",
              "       [16751.77 ],\n",
              "       [17063.201],\n",
              "       [17266.885],\n",
              "       [17501.545],\n",
              "       [17513.188],\n",
              "       [17650.152],\n",
              "       [17624.35 ],\n",
              "       [17885.492],\n",
              "       [18100.014],\n",
              "       [18230.418],\n",
              "       [18400.857],\n",
              "       [18351.746],\n",
              "       [18417.244],\n",
              "       [18514.623],\n",
              "       [17654.531],\n",
              "       [17258.63 ],\n",
              "       [17269.512],\n",
              "       [17237.543],\n",
              "       [17261.43 ],\n",
              "       [17445.248],\n",
              "       [17907.19 ],\n",
              "       [18355.268],\n",
              "       [18569.164],\n",
              "       [18476.48 ],\n",
              "       [18308.453],\n",
              "       [18117.572],\n",
              "       [18062.484],\n",
              "       [17872.729],\n",
              "       [17775.908],\n",
              "       [17762.893],\n",
              "       [17661.537],\n",
              "       [17484.164],\n",
              "       [17536.639],\n",
              "       [17586.865],\n",
              "       [17666.346],\n",
              "       [17600.44 ],\n",
              "       [17557.111],\n",
              "       [17450.162],\n",
              "       [17168.256],\n",
              "       [16789.178],\n",
              "       [16884.805],\n",
              "       [16837.135],\n",
              "       [16692.383],\n",
              "       [16679.064],\n",
              "       [16649.867],\n",
              "       [16451.969],\n",
              "       [16346.006],\n",
              "       [16341.53 ],\n",
              "       [16394.021],\n",
              "       [16323.796],\n",
              "       [16182.445],\n",
              "       [16345.094],\n",
              "       [16214.7  ],\n",
              "       [15959.947],\n",
              "       [15874.351],\n",
              "       [15582.56 ],\n",
              "       [15398.451],\n",
              "       [15345.955],\n",
              "       [15464.361],\n",
              "       [15582.019],\n",
              "       [15476.542],\n",
              "       [15466.229],\n",
              "       [15275.567],\n",
              "       [15178.399],\n",
              "       [15002.632],\n",
              "       [14905.15 ],\n",
              "       [14867.788],\n",
              "       [14751.079],\n",
              "       [14700.324],\n",
              "       [14729.055],\n",
              "       [14746.091],\n",
              "       [14559.888],\n",
              "       [14608.979],\n",
              "       [14669.954],\n",
              "       [14657.187],\n",
              "       [14543.882],\n",
              "       [14410.11 ],\n",
              "       [14425.092],\n",
              "       [14322.424],\n",
              "       [14373.415],\n",
              "       [14176.135],\n",
              "       [13883.699]], dtype=float32)"
            ]
          },
          "metadata": {},
          "execution_count": 18
        }
      ]
    },
    {
      "cell_type": "markdown",
      "metadata": {
        "id": "E0XRQEF6TMpr"
      },
      "source": [
        "### **Comparing predictions with the actual value using plot**\n"
      ]
    },
    {
      "cell_type": "code",
      "metadata": {
        "colab": {
          "base_uri": "https://localhost:8080/",
          "height": 265
        },
        "id": "GFGsCpfRTeZD",
        "outputId": "d21041c5-c64d-4a10-88d1-090dc271403a"
      },
      "source": [
        "plot_series([pred[:,0],y_test[:,:,0]])"
      ],
      "execution_count": 19,
      "outputs": [
        {
          "output_type": "display_data",
          "data": {
            "image/png": "[encoded data removed]",
            "text/plain": [
              "<Figure size 432x288 with 1 Axes>"
            ]
          },
          "metadata": {
            "needs_background": "light"
          }
        }
      ]
    },
    {
      "cell_type": "markdown",
      "metadata": {
        "id": "3eqxiODeTlDB"
      },
      "source": [
        "The plot in blue represents the predicted value by the model for the test dataset (pred), while the plot in orange represents the actual value of the test dataset (y_test).\n",
        "\n",
        "So now our model works good with epochs=10 as pred values are almost closer to the actual value."
      ]
    }
  ]
}